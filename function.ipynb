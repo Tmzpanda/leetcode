# array
envelopes.sort(key=lambda x: (x[0], -x[1]))
return max(map(max, dp))
nodes = reduce(set.union, seqs, set()) 





    
# map    
for num in nums:
    freq_dict[num] = freq_dict.get(num, 0) + 1
freq_dict_sorted = sorted(freq_dict.items(), key=lambda x: -x[1])

most_freq_element = max(freq_dict.keys(), key=lambda x: freq_dict[x])



# string


    
